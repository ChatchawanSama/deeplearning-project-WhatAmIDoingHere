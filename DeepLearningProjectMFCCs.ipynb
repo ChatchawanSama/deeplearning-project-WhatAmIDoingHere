{
 "cells": [
  {
   "cell_type": "markdown",
   "metadata": {},
   "source": [
    "#### Resouces : \n",
    "- https://www.kaggle.com/datasets/swapnilpanda/heart-sound-database  \n",
    "After rescearch and asking doctors we found that this dataset belong to lung sound not heart sound. Ref: https://www.kaggle.com/code/israaelmorsy/lung-sound-classification/notebook\n",
    "- https://www.kaggle.com/datasets/vbookshelf/respiratory-sound-database\n",
    "- https://data.mendeley.com/datasets/jwyy9np4gv/3"
   ]
  },
  {
   "cell_type": "markdown",
   "metadata": {},
   "source": [
    "#### I will find more data and update soon."
   ]
  },
  {
   "cell_type": "code",
   "execution_count": 1,
   "metadata": {},
   "outputs": [
    {
     "data": {
      "text/html": [
       "<style>.container { width:100% !important; }</style>"
      ],
      "text/plain": [
       "<IPython.core.display.HTML object>"
      ]
     },
     "metadata": {},
     "output_type": "display_data"
    },
    {
     "data": {
      "text/html": [
       "<style>.container { width:100% !important; }</style>"
      ],
      "text/plain": [
       "<IPython.core.display.HTML object>"
      ]
     },
     "metadata": {},
     "output_type": "display_data"
    }
   ],
   "source": [
    "from IPython.display import display, HTML, clear_output\n",
    "display(HTML(\"<style>.container { width:100% !important; }</style>\"))"
   ]
  },
  {
   "cell_type": "code",
   "execution_count": 2,
   "metadata": {
    "id": "riMeU1PGMLvn"
   },
   "outputs": [],
   "source": [
    "import librosa\n",
    "import librosa.display\n",
    "import matplotlib.pyplot as plt\n",
    "import numpy as np\n",
    "import random\n",
    "import pandas as pd\n",
    "import os\n",
    "import seaborn as sns\n",
    "from keras.utils import to_categorical\n",
    "from sklearn.model_selection import train_test_split"
   ]
  },
  {
   "cell_type": "code",
   "execution_count": 3,
   "metadata": {},
   "outputs": [],
   "source": [
    "np.random.seed(123)"
   ]
  },
  {
   "cell_type": "markdown",
   "metadata": {},
   "source": [
    "## If error :\n",
    "#### No module named 'numba.decorators'\n",
    "- conda install -c numba numba\n",
    "- conda install -c conda-forge librosa\n",
    "\n",
    "#### cannot load library libsndfile64bit.dll \n",
    "- pip uninstall soundfile\n",
    "- pip install soundfile"
   ]
  },
  {
   "cell_type": "markdown",
   "metadata": {},
   "source": [
    "## Data from Kaggle - 1"
   ]
  },
  {
   "cell_type": "code",
   "execution_count": 4,
   "metadata": {},
   "outputs": [],
   "source": [
    "audio_dir = 'Respiratory_Sound_Database/audio_and_txt_files'\n",
    "wav_files = sorted([os.path.join(audio_dir, f) for f in os.listdir(audio_dir) if f.endswith('.wav')])"
   ]
  },
  {
   "cell_type": "code",
   "execution_count": 5,
   "metadata": {},
   "outputs": [],
   "source": [
    "# min_duration = float('inf')\n",
    "# for wav_file in wav_files:\n",
    "#     samples, sample_rate = librosa.load(wav_file)\n",
    "#     duration = librosa.get_duration(y=samples, sr=sample_rate)\n",
    "#     if duration < min_duration:\n",
    "#         min_duration = duration\n",
    "\n",
    "# print('Minimum duration:', min_duration, 'seconds')"
   ]
  },
  {
   "cell_type": "code",
   "execution_count": 6,
   "metadata": {},
   "outputs": [],
   "source": [
    "# directory = audio_dir\n",
    "# count = 0\n",
    "\n",
    "# for file in os.listdir(directory):\n",
    "#     if file.endswith(\".wav\"):\n",
    "#         count += 1\n",
    "\n",
    "# print(f\"Number of .wav files in directory: {count}\")"
   ]
  },
  {
   "cell_type": "code",
   "execution_count": 7,
   "metadata": {},
   "outputs": [
    {
     "name": "stdout",
     "output_type": "stream",
     "text": [
      "(920, 20, 431, 1)\n"
     ]
    }
   ],
   "source": [
    "# Set the target length for all audio files\n",
    "target_length = 22050 * 10 # 5 seconds\n",
    "\n",
    "# Set the number of Mel frequency bins\n",
    "n_mels = 128\n",
    "\n",
    "# List to hold all the mel spectrograms\n",
    "all_mfccs = []\n",
    "\n",
    "# Iterate over all the audio files\n",
    "for wav_file in wav_files:\n",
    "    # Load the audio file\n",
    "    samples, sample_rate = librosa.load(wav_file)\n",
    "\n",
    "    # Trim the audio file to remove the dead air\n",
    "    samples, _ = librosa.effects.trim(samples)\n",
    "\n",
    "    # Pad or truncate the audio file to the target length\n",
    "    if len(samples) < target_length:\n",
    "        samples = np.pad(samples, (0, target_length - len(samples)), 'constant')\n",
    "    else:\n",
    "        samples = samples[:target_length]\n",
    "\n",
    "    # Compute the Mel spectrogram\n",
    "    mfccs = librosa.feature.mfcc(y=samples, sr=sample_rate, n_mfcc=20, n_mels=n_mels)\n",
    "\n",
    "    # Append the Mel spectrogram to the list\n",
    "    all_mfccs.append(mfccs)\n",
    "\n",
    "# Convert the list to a numpy array and add a channel dimension\n",
    "X_train = np.array(all_mfccs)\n",
    "X_train = np.expand_dims(X_train, axis=-1)\n",
    "\n",
    "# Print the shape of the numpy array\n",
    "print(X_train.shape)\n"
   ]
  },
  {
   "cell_type": "code",
   "execution_count": 8,
   "metadata": {
    "scrolled": true
   },
   "outputs": [],
   "source": [
    "# n_mels = 128\n",
    "# max_sec = 5\n",
    "\n",
    "# all_mel_spec = []\n",
    "# for wav_file in wav_files:\n",
    "#     samples, sample_rate = librosa.load(wav_file, duration=max_sec)\n",
    "#     mel_spec = librosa.feature.melspectrogram(y=samples, sr=sample_rate, n_mels=n_mels)\n",
    "#     log_mel_spec = librosa.power_to_db(mel_spec, ref=np.max)\n",
    "#     all_mel_spec.append(log_mel_spec)\n",
    "\n",
    "# X_train = np.array(all_mel_spec)\n",
    "# X_train = np.expand_dims(X_train, axis=-1)\n",
    "\n",
    "# X_train.shape"
   ]
  },
  {
   "cell_type": "code",
   "execution_count": 9,
   "metadata": {},
   "outputs": [],
   "source": [
    "# n_mels = 128\n",
    "# max_sec = 5\n",
    "\n",
    "# all_mel_spec = []\n",
    "# for wav_file in wav_files:\n",
    "#     # Load the audio file\n",
    "#     samples, sample_rate = librosa.load(wav_file)\n",
    "    \n",
    "#     # Check if the duration is less than max_sec\n",
    "#     if librosa.get_duration(y=samples, sr=sample_rate) < max_sec:\n",
    "#         # Calculate the stretch factor needed to make the duration equal to max_sec\n",
    "#         stretch_factor = max_sec / librosa.get_duration(y=samples, sr=sample_rate)\n",
    "        \n",
    "#         # Apply time stretching to the audio\n",
    "#         stretched_audio = librosa.effects.time_stretch(samples, stretch_factor)\n",
    "        \n",
    "#         # Add the stretched audio to the all_mel_spec list\n",
    "#         mel_spec = librosa.feature.melspectrogram(y=stretched_audio, sr=sample_rate, n_mels=n_mels)\n",
    "#         log_mel_spec = librosa.power_to_db(mel_spec, ref=np.max)\n",
    "#         all_mel_spec.append(log_mel_spec)\n",
    "#     else:\n",
    "#         # Add the original audio to the all_mel_spec list\n",
    "#         samples = samples[:int(max_sec * sample_rate)]\n",
    "#         mel_spec = librosa.feature.melspectrogram(y=samples, sr=sample_rate, n_mels=n_mels)\n",
    "#         log_mel_spec = librosa.power_to_db(mel_spec, ref=np.max)\n",
    "#         all_mel_spec.append(log_mel_spec)\n",
    "\n",
    "# # Concatenate the mel spectrograms\n",
    "# X_train = np.concatenate(all_mel_spec, axis=1)\n",
    "# X_train = np.expand_dims(X_train, axis=-1)\n",
    "\n",
    "# X_train.shape\n"
   ]
  },
  {
   "cell_type": "code",
   "execution_count": 10,
   "metadata": {},
   "outputs": [],
   "source": [
    "# assert False, \"Stopping the execution here\""
   ]
  },
  {
   "cell_type": "code",
   "execution_count": 11,
   "metadata": {},
   "outputs": [
    {
     "data": {
      "image/png": "[encoded data removed]",
      "text/plain": [
       "<Figure size 640x480 with 1 Axes>"
      ]
     },
     "metadata": {},
     "output_type": "display_data"
    }
   ],
   "source": [
    "plt.plot(samples);\n",
    "plt.title('Signal');\n",
    "plt.xlabel('Time (samples)');\n",
    "plt.ylabel('Amplitude');"
   ]
  },
  {
   "cell_type": "code",
   "execution_count": 12,
   "metadata": {},
   "outputs": [
    {
     "data": {
      "image/png": "[encoded data removed]",
      "text/plain": [
       "<Figure size 1000x400 with 2 Axes>"
      ]
     },
     "metadata": {},
     "output_type": "display_data"
    }
   ],
   "source": [
    "plt.figure(figsize=(10, 4))\n",
    "librosa.display.specshow(all_mfccs[0], x_axis='time')\n",
    "plt.colorbar()\n",
    "plt.title('MFCC')\n",
    "plt.tight_layout()\n",
    "plt.show()"
   ]
  },
  {
   "cell_type": "code",
   "execution_count": 13,
   "metadata": {
    "scrolled": false
   },
   "outputs": [
    {
     "data": {
      "image/png": "[encoded data removed]",
      "text/plain": [
       "<Figure size 640x480 with 1 Axes>"
      ]
     },
     "metadata": {},
     "output_type": "display_data"
    }
   ],
   "source": [
    "mel_spec = X_train[0, :, :, 0]\n",
    "plt.imshow(mel_spec, aspect='auto', origin='lower')\n",
    "plt.title('MFCC')\n",
    "plt.tight_layout()\n",
    "plt.show()\n"
   ]
  },
  {
   "cell_type": "code",
   "execution_count": 14,
   "metadata": {
    "scrolled": true
   },
   "outputs": [
    {
     "data": {
      "text/plain": [
       "COPD              64\n",
       "Healthy           26\n",
       "URTI              14\n",
       "Bronchiectasis     7\n",
       "Pneumonia          6\n",
       "Bronchiolitis      6\n",
       "LRTI               2\n",
       "Asthma             1\n",
       "Name: type, dtype: int64"
      ]
     },
     "execution_count": 14,
     "metadata": {},
     "output_type": "execute_result"
    }
   ],
   "source": [
    "y_train = pd.read_csv(\"Respiratory_Sound_Database/patient_diagnosis.csv\" ,  header=None)\n",
    "y_train = y_train.rename(columns={0: \"id\", 1: \"type\"})\n",
    "y_train['type'].value_counts()"
   ]
  },
  {
   "cell_type": "code",
   "execution_count": 15,
   "metadata": {},
   "outputs": [
    {
     "data": {
      "image/png": "[encoded data removed]",
      "text/plain": [
       "<Figure size 640x480 with 1 Axes>"
      ]
     },
     "metadata": {},
     "output_type": "display_data"
    }
   ],
   "source": [
    "counts =y_train[\"type\"].value_counts()\n",
    "plt.pie(counts, labels=counts.index, autopct='%1.1f%%')\n",
    "plt.show()"
   ]
  },
  {
   "cell_type": "code",
   "execution_count": 16,
   "metadata": {},
   "outputs": [
    {
     "data": {
      "text/html": [
       "<div>\n",
       "<style scoped>\n",
       "    .dataframe tbody tr th:only-of-type {\n",
       "        vertical-align: middle;\n",
       "    }\n",
       "\n",
       "    .dataframe tbody tr th {\n",
       "        vertical-align: top;\n",
       "    }\n",
       "\n",
       "    .dataframe thead th {\n",
       "        text-align: right;\n",
       "    }\n",
       "</style>\n",
       "<table border=\"1\" class=\"dataframe\">\n",
       "  <thead>\n",
       "    <tr style=\"text-align: right;\">\n",
       "      <th></th>\n",
       "      <th>id</th>\n",
       "      <th>type</th>\n",
       "    </tr>\n",
       "  </thead>\n",
       "  <tbody>\n",
       "    <tr>\n",
       "      <th>0</th>\n",
       "      <td>101</td>\n",
       "      <td>Unhealthy</td>\n",
       "    </tr>\n",
       "    <tr>\n",
       "      <th>1</th>\n",
       "      <td>102</td>\n",
       "      <td>Healthy</td>\n",
       "    </tr>\n",
       "    <tr>\n",
       "      <th>2</th>\n",
       "      <td>103</td>\n",
       "      <td>Unhealthy</td>\n",
       "    </tr>\n",
       "    <tr>\n",
       "      <th>3</th>\n",
       "      <td>104</td>\n",
       "      <td>Unhealthy</td>\n",
       "    </tr>\n",
       "    <tr>\n",
       "      <th>4</th>\n",
       "      <td>105</td>\n",
       "      <td>Unhealthy</td>\n",
       "    </tr>\n",
       "    <tr>\n",
       "      <th>...</th>\n",
       "      <td>...</td>\n",
       "      <td>...</td>\n",
       "    </tr>\n",
       "    <tr>\n",
       "      <th>121</th>\n",
       "      <td>222</td>\n",
       "      <td>Unhealthy</td>\n",
       "    </tr>\n",
       "    <tr>\n",
       "      <th>122</th>\n",
       "      <td>223</td>\n",
       "      <td>Unhealthy</td>\n",
       "    </tr>\n",
       "    <tr>\n",
       "      <th>123</th>\n",
       "      <td>224</td>\n",
       "      <td>Healthy</td>\n",
       "    </tr>\n",
       "    <tr>\n",
       "      <th>124</th>\n",
       "      <td>225</td>\n",
       "      <td>Healthy</td>\n",
       "    </tr>\n",
       "    <tr>\n",
       "      <th>125</th>\n",
       "      <td>226</td>\n",
       "      <td>Unhealthy</td>\n",
       "    </tr>\n",
       "  </tbody>\n",
       "</table>\n",
       "<p>126 rows × 2 columns</p>\n",
       "</div>"
      ],
      "text/plain": [
       "      id       type\n",
       "0    101  Unhealthy\n",
       "1    102    Healthy\n",
       "2    103  Unhealthy\n",
       "3    104  Unhealthy\n",
       "4    105  Unhealthy\n",
       "..   ...        ...\n",
       "121  222  Unhealthy\n",
       "122  223  Unhealthy\n",
       "123  224    Healthy\n",
       "124  225    Healthy\n",
       "125  226  Unhealthy\n",
       "\n",
       "[126 rows x 2 columns]"
      ]
     },
     "execution_count": 16,
     "metadata": {},
     "output_type": "execute_result"
    }
   ],
   "source": [
    "y_train.loc[y_train['type'] != 'Healthy', 'type'] = 'Unhealthy'\n",
    "y_train"
   ]
  },
  {
   "cell_type": "code",
   "execution_count": 17,
   "metadata": {
    "scrolled": true
   },
   "outputs": [
    {
     "data": {
      "text/plain": [
       "Unhealthy    100\n",
       "Healthy       26\n",
       "Name: type, dtype: int64"
      ]
     },
     "execution_count": 17,
     "metadata": {},
     "output_type": "execute_result"
    }
   ],
   "source": [
    "y_train[\"type\"].value_counts()"
   ]
  },
  {
   "cell_type": "code",
   "execution_count": 18,
   "metadata": {},
   "outputs": [
    {
     "data": {
      "image/png": "[encoded data removed]",
      "text/plain": [
       "<Figure size 640x480 with 1 Axes>"
      ]
     },
     "metadata": {},
     "output_type": "display_data"
    }
   ],
   "source": [
    "counts =y_train[\"type\"].value_counts()\n",
    "sns.barplot(x= counts.index, y= counts.values)\n",
    "plt.ylabel('Count')\n",
    "plt.show()"
   ]
  },
  {
   "cell_type": "code",
   "execution_count": 19,
   "metadata": {
    "scrolled": false
   },
   "outputs": [
    {
     "data": {
      "text/html": [
       "<div>\n",
       "<style scoped>\n",
       "    .dataframe tbody tr th:only-of-type {\n",
       "        vertical-align: middle;\n",
       "    }\n",
       "\n",
       "    .dataframe tbody tr th {\n",
       "        vertical-align: top;\n",
       "    }\n",
       "\n",
       "    .dataframe thead th {\n",
       "        text-align: right;\n",
       "    }\n",
       "</style>\n",
       "<table border=\"1\" class=\"dataframe\">\n",
       "  <thead>\n",
       "    <tr style=\"text-align: right;\">\n",
       "      <th></th>\n",
       "      <th>id</th>\n",
       "      <th>type</th>\n",
       "    </tr>\n",
       "  </thead>\n",
       "  <tbody>\n",
       "    <tr>\n",
       "      <th>0</th>\n",
       "      <td>101</td>\n",
       "      <td>Unhealthy</td>\n",
       "    </tr>\n",
       "    <tr>\n",
       "      <th>1</th>\n",
       "      <td>101</td>\n",
       "      <td>Unhealthy</td>\n",
       "    </tr>\n",
       "    <tr>\n",
       "      <th>2</th>\n",
       "      <td>102</td>\n",
       "      <td>Healthy</td>\n",
       "    </tr>\n",
       "    <tr>\n",
       "      <th>3</th>\n",
       "      <td>103</td>\n",
       "      <td>Unhealthy</td>\n",
       "    </tr>\n",
       "    <tr>\n",
       "      <th>4</th>\n",
       "      <td>104</td>\n",
       "      <td>Unhealthy</td>\n",
       "    </tr>\n",
       "    <tr>\n",
       "      <th>...</th>\n",
       "      <td>...</td>\n",
       "      <td>...</td>\n",
       "    </tr>\n",
       "    <tr>\n",
       "      <th>915</th>\n",
       "      <td>224</td>\n",
       "      <td>Healthy</td>\n",
       "    </tr>\n",
       "    <tr>\n",
       "      <th>916</th>\n",
       "      <td>225</td>\n",
       "      <td>Healthy</td>\n",
       "    </tr>\n",
       "    <tr>\n",
       "      <th>917</th>\n",
       "      <td>226</td>\n",
       "      <td>Unhealthy</td>\n",
       "    </tr>\n",
       "    <tr>\n",
       "      <th>918</th>\n",
       "      <td>226</td>\n",
       "      <td>Unhealthy</td>\n",
       "    </tr>\n",
       "    <tr>\n",
       "      <th>919</th>\n",
       "      <td>226</td>\n",
       "      <td>Unhealthy</td>\n",
       "    </tr>\n",
       "  </tbody>\n",
       "</table>\n",
       "<p>920 rows × 2 columns</p>\n",
       "</div>"
      ],
      "text/plain": [
       "      id       type\n",
       "0    101  Unhealthy\n",
       "1    101  Unhealthy\n",
       "2    102    Healthy\n",
       "3    103  Unhealthy\n",
       "4    104  Unhealthy\n",
       "..   ...        ...\n",
       "915  224    Healthy\n",
       "916  225    Healthy\n",
       "917  226  Unhealthy\n",
       "918  226  Unhealthy\n",
       "919  226  Unhealthy\n",
       "\n",
       "[920 rows x 2 columns]"
      ]
     },
     "execution_count": 19,
     "metadata": {},
     "output_type": "execute_result"
    }
   ],
   "source": [
    "patient_ids = [int(f.split(\"_\")[0]) for f in os.listdir(audio_dir) if f.endswith(\".wav\")]\n",
    "patient_ids.sort()\n",
    "new_y_train = pd.DataFrame({'id': patient_ids})\n",
    "for i, pid in enumerate(patient_ids):\n",
    "    match = y_train['id'] == pid\n",
    "    if match.any():\n",
    "        new_y_train.at[i, 'type'] = y_train[match]['type'].values[0]\n",
    "    else:\n",
    "        new_y_train.at[i, 'type'] = 'Unknown'\n",
    "new_y_train"
   ]
  },
  {
   "cell_type": "code",
   "execution_count": 20,
   "metadata": {},
   "outputs": [
    {
     "data": {
      "text/plain": [
       "Unhealthy    885\n",
       "Healthy       35\n",
       "Name: type, dtype: int64"
      ]
     },
     "execution_count": 20,
     "metadata": {},
     "output_type": "execute_result"
    }
   ],
   "source": [
    "new_y_train[\"type\"].value_counts()"
   ]
  },
  {
   "cell_type": "code",
   "execution_count": 21,
   "metadata": {
    "scrolled": false
   },
   "outputs": [
    {
     "data": {
      "text/html": [
       "<div>\n",
       "<style scoped>\n",
       "    .dataframe tbody tr th:only-of-type {\n",
       "        vertical-align: middle;\n",
       "    }\n",
       "\n",
       "    .dataframe tbody tr th {\n",
       "        vertical-align: top;\n",
       "    }\n",
       "\n",
       "    .dataframe thead th {\n",
       "        text-align: right;\n",
       "    }\n",
       "</style>\n",
       "<table border=\"1\" class=\"dataframe\">\n",
       "  <thead>\n",
       "    <tr style=\"text-align: right;\">\n",
       "      <th></th>\n",
       "      <th>type</th>\n",
       "    </tr>\n",
       "  </thead>\n",
       "  <tbody>\n",
       "    <tr>\n",
       "      <th>0</th>\n",
       "      <td>Unhealthy</td>\n",
       "    </tr>\n",
       "    <tr>\n",
       "      <th>1</th>\n",
       "      <td>Unhealthy</td>\n",
       "    </tr>\n",
       "    <tr>\n",
       "      <th>2</th>\n",
       "      <td>Healthy</td>\n",
       "    </tr>\n",
       "    <tr>\n",
       "      <th>3</th>\n",
       "      <td>Unhealthy</td>\n",
       "    </tr>\n",
       "    <tr>\n",
       "      <th>4</th>\n",
       "      <td>Unhealthy</td>\n",
       "    </tr>\n",
       "    <tr>\n",
       "      <th>...</th>\n",
       "      <td>...</td>\n",
       "    </tr>\n",
       "    <tr>\n",
       "      <th>915</th>\n",
       "      <td>Healthy</td>\n",
       "    </tr>\n",
       "    <tr>\n",
       "      <th>916</th>\n",
       "      <td>Healthy</td>\n",
       "    </tr>\n",
       "    <tr>\n",
       "      <th>917</th>\n",
       "      <td>Unhealthy</td>\n",
       "    </tr>\n",
       "    <tr>\n",
       "      <th>918</th>\n",
       "      <td>Unhealthy</td>\n",
       "    </tr>\n",
       "    <tr>\n",
       "      <th>919</th>\n",
       "      <td>Unhealthy</td>\n",
       "    </tr>\n",
       "  </tbody>\n",
       "</table>\n",
       "<p>920 rows × 1 columns</p>\n",
       "</div>"
      ],
      "text/plain": [
       "          type\n",
       "0    Unhealthy\n",
       "1    Unhealthy\n",
       "2      Healthy\n",
       "3    Unhealthy\n",
       "4    Unhealthy\n",
       "..         ...\n",
       "915    Healthy\n",
       "916    Healthy\n",
       "917  Unhealthy\n",
       "918  Unhealthy\n",
       "919  Unhealthy\n",
       "\n",
       "[920 rows x 1 columns]"
      ]
     },
     "execution_count": 21,
     "metadata": {},
     "output_type": "execute_result"
    }
   ],
   "source": [
    "y_train = new_y_train\n",
    "y_train = y_train.drop(\"id\", axis=1)\n",
    "y_train"
   ]
  },
  {
   "cell_type": "code",
   "execution_count": 22,
   "metadata": {},
   "outputs": [
    {
     "data": {
      "text/plain": [
       "Unhealthy    885\n",
       "Healthy       35\n",
       "Name: type, dtype: int64"
      ]
     },
     "execution_count": 22,
     "metadata": {},
     "output_type": "execute_result"
    }
   ],
   "source": [
    "y_train['type'].value_counts()"
   ]
  },
  {
   "cell_type": "code",
   "execution_count": 23,
   "metadata": {},
   "outputs": [
    {
     "data": {
      "image/png": "[encoded data removed]",
      "text/plain": [
       "<Figure size 640x480 with 1 Axes>"
      ]
     },
     "metadata": {},
     "output_type": "display_data"
    }
   ],
   "source": [
    "counts =y_train['type'].value_counts()\n",
    "sns.barplot(x= counts.index, y= counts.values)\n",
    "plt.ylabel('Count')\n",
    "plt.show()"
   ]
  },
  {
   "cell_type": "markdown",
   "metadata": {},
   "source": [
    "## Data from Kaggle - 2"
   ]
  },
  {
   "cell_type": "markdown",
   "metadata": {},
   "source": [
    "### Healthy Data"
   ]
  },
  {
   "cell_type": "code",
   "execution_count": 24,
   "metadata": {},
   "outputs": [],
   "source": [
    "# assert False, \"Stopping the execution here\""
   ]
  },
  {
   "cell_type": "code",
   "execution_count": 25,
   "metadata": {},
   "outputs": [],
   "source": [
    "audio_dir_1 = 'heart_sound/train/healthy'\n",
    "audio_dir_2 = 'heart_sound/val/healthy'\n",
    "\n",
    "wav_files_1 = sorted([os.path.join(audio_dir_1, f) for f in os.listdir(audio_dir_1) if f.endswith('.wav')])\n",
    "wav_files_2 = sorted([os.path.join(audio_dir_2, f) for f in os.listdir(audio_dir_2) if f.endswith('.wav')])"
   ]
  },
  {
   "cell_type": "code",
   "execution_count": 26,
   "metadata": {},
   "outputs": [],
   "source": [
    "# min_duration = float('inf')\n",
    "\n",
    "# for wav_file in (wav_files_1 + wav_files_2):\n",
    "#     samples, sample_rate = librosa.load(wav_file)\n",
    "#     duration = librosa.get_duration(y=samples, sr=sample_rate)\n",
    "#     if duration < min_duration:\n",
    "#         min_duration = duration\n",
    "\n",
    "# print('Minimum duration:', min_duration, 'seconds')"
   ]
  },
  {
   "cell_type": "code",
   "execution_count": 27,
   "metadata": {},
   "outputs": [
    {
     "name": "stdout",
     "output_type": "stream",
     "text": [
      "Number of .wav files in directory: 2725\n"
     ]
    }
   ],
   "source": [
    "directory = audio_dir_1\n",
    "count = 0\n",
    "\n",
    "for file in os.listdir(directory):\n",
    "    if file.endswith(\".wav\"):\n",
    "        count += 1\n",
    "\n",
    "directory = audio_dir_2\n",
    "\n",
    "for file in os.listdir(directory):\n",
    "    if file.endswith(\".wav\"):\n",
    "        count += 1\n",
    "print(f\"Number of .wav files in directory: {count}\")"
   ]
  },
  {
   "cell_type": "code",
   "execution_count": 28,
   "metadata": {},
   "outputs": [],
   "source": [
    "# n_mels = 128\n",
    "# max_sec = 5\n",
    "\n",
    "# all_mel_spec = []\n",
    "# for wav_file in wav_files_1 + wav_files_2:\n",
    "#     samples, sample_rate = librosa.load(wav_file, duration=max_sec)\n",
    "#     mel_spec = librosa.feature.melspectrogram(y=samples, sr=sample_rate, n_mels=n_mels)\n",
    "#     log_mel_spec = librosa.power_to_db(mel_spec, ref=np.max)\n",
    "#     all_mel_spec.append(log_mel_spec)\n",
    "\n",
    "# X_train_2 = np.array(all_mel_spec)\n",
    "# X_train_2 = np.expand_dims(X_train_2, axis=-1)\n",
    "\n",
    "# X_train_2.shape"
   ]
  },
  {
   "cell_type": "code",
   "execution_count": 29,
   "metadata": {},
   "outputs": [
    {
     "name": "stdout",
     "output_type": "stream",
     "text": [
      "(2725, 20, 431, 1)\n"
     ]
    }
   ],
   "source": [
    "# Set the target length for all audio files\n",
    "target_length = 22050 * 10 # 5 seconds\n",
    "\n",
    "# Set the number of Mel frequency bins\n",
    "n_mels = 128\n",
    "\n",
    "# List to hold all the mel spectrograms\n",
    "all_mfccs = []\n",
    "\n",
    "# Iterate over all the audio files\n",
    "for wav_file in wav_files_1 + wav_files_2:\n",
    "    # Load the audio file\n",
    "    samples, sample_rate = librosa.load(wav_file)\n",
    "\n",
    "    # Trim the audio file to remove the dead air\n",
    "    samples, _ = librosa.effects.trim(samples)\n",
    "\n",
    "    # Pad or truncate the audio file to the target length\n",
    "    if len(samples) < target_length:\n",
    "        samples = np.pad(samples, (0, target_length - len(samples)), 'constant')\n",
    "    else:\n",
    "        samples = samples[:target_length]\n",
    "\n",
    "    # Compute the Mel spectrogram\n",
    "    mfccs = librosa.feature.mfcc(y=samples, sr=sample_rate, n_mfcc=20, n_mels=n_mels)\n",
    "\n",
    "    # Append the Mel spectrogram to the list\n",
    "    all_mfccs.append(mfccs)\n",
    "\n",
    "# Convert the list to a numpy array and add a channel dimension\n",
    "X_train_2 = np.array(all_mfccs)\n",
    "X_train_2 = np.expand_dims(X_train_2, axis=-1)\n",
    "\n",
    "# Print the shape of the numpy array\n",
    "print(X_train_2.shape)"
   ]
  },
  {
   "cell_type": "code",
   "execution_count": 30,
   "metadata": {},
   "outputs": [
    {
     "data": {
      "text/plain": [
       "(3645, 20, 431, 1)"
      ]
     },
     "execution_count": 30,
     "metadata": {},
     "output_type": "execute_result"
    }
   ],
   "source": [
    "# new_data = np.ones(X_train.shape)\n",
    "X_train = np.concatenate([X_train, X_train_2], axis=0)\n",
    "X_train.shape"
   ]
  },
  {
   "cell_type": "code",
   "execution_count": 31,
   "metadata": {
    "scrolled": false
   },
   "outputs": [
    {
     "data": {
      "text/html": [
       "<div>\n",
       "<style scoped>\n",
       "    .dataframe tbody tr th:only-of-type {\n",
       "        vertical-align: middle;\n",
       "    }\n",
       "\n",
       "    .dataframe tbody tr th {\n",
       "        vertical-align: top;\n",
       "    }\n",
       "\n",
       "    .dataframe thead th {\n",
       "        text-align: right;\n",
       "    }\n",
       "</style>\n",
       "<table border=\"1\" class=\"dataframe\">\n",
       "  <thead>\n",
       "    <tr style=\"text-align: right;\">\n",
       "      <th></th>\n",
       "      <th>type</th>\n",
       "    </tr>\n",
       "  </thead>\n",
       "  <tbody>\n",
       "    <tr>\n",
       "      <th>0</th>\n",
       "      <td>Healthy</td>\n",
       "    </tr>\n",
       "    <tr>\n",
       "      <th>1</th>\n",
       "      <td>Healthy</td>\n",
       "    </tr>\n",
       "    <tr>\n",
       "      <th>2</th>\n",
       "      <td>Healthy</td>\n",
       "    </tr>\n",
       "    <tr>\n",
       "      <th>3</th>\n",
       "      <td>Healthy</td>\n",
       "    </tr>\n",
       "    <tr>\n",
       "      <th>4</th>\n",
       "      <td>Healthy</td>\n",
       "    </tr>\n",
       "    <tr>\n",
       "      <th>...</th>\n",
       "      <td>...</td>\n",
       "    </tr>\n",
       "    <tr>\n",
       "      <th>2720</th>\n",
       "      <td>Healthy</td>\n",
       "    </tr>\n",
       "    <tr>\n",
       "      <th>2721</th>\n",
       "      <td>Healthy</td>\n",
       "    </tr>\n",
       "    <tr>\n",
       "      <th>2722</th>\n",
       "      <td>Healthy</td>\n",
       "    </tr>\n",
       "    <tr>\n",
       "      <th>2723</th>\n",
       "      <td>Healthy</td>\n",
       "    </tr>\n",
       "    <tr>\n",
       "      <th>2724</th>\n",
       "      <td>Healthy</td>\n",
       "    </tr>\n",
       "  </tbody>\n",
       "</table>\n",
       "<p>2725 rows × 1 columns</p>\n",
       "</div>"
      ],
      "text/plain": [
       "         type\n",
       "0     Healthy\n",
       "1     Healthy\n",
       "2     Healthy\n",
       "3     Healthy\n",
       "4     Healthy\n",
       "...       ...\n",
       "2720  Healthy\n",
       "2721  Healthy\n",
       "2722  Healthy\n",
       "2723  Healthy\n",
       "2724  Healthy\n",
       "\n",
       "[2725 rows x 1 columns]"
      ]
     },
     "execution_count": 31,
     "metadata": {},
     "output_type": "execute_result"
    }
   ],
   "source": [
    "y_2 = pd.DataFrame({'type': ['Healthy'] * count})\n",
    "y_2"
   ]
  },
  {
   "cell_type": "code",
   "execution_count": 32,
   "metadata": {},
   "outputs": [
    {
     "data": {
      "text/html": [
       "<div>\n",
       "<style scoped>\n",
       "    .dataframe tbody tr th:only-of-type {\n",
       "        vertical-align: middle;\n",
       "    }\n",
       "\n",
       "    .dataframe tbody tr th {\n",
       "        vertical-align: top;\n",
       "    }\n",
       "\n",
       "    .dataframe thead th {\n",
       "        text-align: right;\n",
       "    }\n",
       "</style>\n",
       "<table border=\"1\" class=\"dataframe\">\n",
       "  <thead>\n",
       "    <tr style=\"text-align: right;\">\n",
       "      <th></th>\n",
       "      <th>type</th>\n",
       "    </tr>\n",
       "  </thead>\n",
       "  <tbody>\n",
       "    <tr>\n",
       "      <th>0</th>\n",
       "      <td>Unhealthy</td>\n",
       "    </tr>\n",
       "    <tr>\n",
       "      <th>1</th>\n",
       "      <td>Unhealthy</td>\n",
       "    </tr>\n",
       "    <tr>\n",
       "      <th>2</th>\n",
       "      <td>Healthy</td>\n",
       "    </tr>\n",
       "    <tr>\n",
       "      <th>3</th>\n",
       "      <td>Unhealthy</td>\n",
       "    </tr>\n",
       "    <tr>\n",
       "      <th>4</th>\n",
       "      <td>Unhealthy</td>\n",
       "    </tr>\n",
       "    <tr>\n",
       "      <th>...</th>\n",
       "      <td>...</td>\n",
       "    </tr>\n",
       "    <tr>\n",
       "      <th>915</th>\n",
       "      <td>Healthy</td>\n",
       "    </tr>\n",
       "    <tr>\n",
       "      <th>916</th>\n",
       "      <td>Healthy</td>\n",
       "    </tr>\n",
       "    <tr>\n",
       "      <th>917</th>\n",
       "      <td>Unhealthy</td>\n",
       "    </tr>\n",
       "    <tr>\n",
       "      <th>918</th>\n",
       "      <td>Unhealthy</td>\n",
       "    </tr>\n",
       "    <tr>\n",
       "      <th>919</th>\n",
       "      <td>Unhealthy</td>\n",
       "    </tr>\n",
       "  </tbody>\n",
       "</table>\n",
       "<p>920 rows × 1 columns</p>\n",
       "</div>"
      ],
      "text/plain": [
       "          type\n",
       "0    Unhealthy\n",
       "1    Unhealthy\n",
       "2      Healthy\n",
       "3    Unhealthy\n",
       "4    Unhealthy\n",
       "..         ...\n",
       "915    Healthy\n",
       "916    Healthy\n",
       "917  Unhealthy\n",
       "918  Unhealthy\n",
       "919  Unhealthy\n",
       "\n",
       "[920 rows x 1 columns]"
      ]
     },
     "execution_count": 32,
     "metadata": {},
     "output_type": "execute_result"
    }
   ],
   "source": [
    "y_train"
   ]
  },
  {
   "cell_type": "code",
   "execution_count": 33,
   "metadata": {},
   "outputs": [
    {
     "data": {
      "text/plain": [
       "(3645, 1)"
      ]
     },
     "execution_count": 33,
     "metadata": {},
     "output_type": "execute_result"
    }
   ],
   "source": [
    "y_train = pd.concat([y_train, y_2], ignore_index=False)\n",
    "y_train.shape"
   ]
  },
  {
   "cell_type": "code",
   "execution_count": 34,
   "metadata": {},
   "outputs": [],
   "source": [
    "# counts = y_train[\"type\"].value_counts()\n",
    "# plt.pie(counts.values, labels=counts.index, autopct='%1.1f%%')\n",
    "# plt.show()"
   ]
  },
  {
   "cell_type": "markdown",
   "metadata": {},
   "source": [
    "### Unhealthy Data"
   ]
  },
  {
   "cell_type": "code",
   "execution_count": 35,
   "metadata": {},
   "outputs": [],
   "source": [
    "audio_dir_3 = 'heart_sound/train/unhealthy'\n",
    "audio_dir_4 = 'heart_sound/val/unhealthy'\n",
    "\n",
    "wav_files_3 = sorted([os.path.join(audio_dir_3, f) for f in os.listdir(audio_dir_3) if f.endswith('.wav')])\n",
    "wav_files_4 = sorted([os.path.join(audio_dir_4, f) for f in os.listdir(audio_dir_4) if f.endswith('.wav')])"
   ]
  },
  {
   "cell_type": "code",
   "execution_count": 36,
   "metadata": {},
   "outputs": [
    {
     "name": "stdout",
     "output_type": "stream",
     "text": [
      "Number of .wav files in directory: 816\n"
     ]
    }
   ],
   "source": [
    "directory = audio_dir_3\n",
    "count = 0\n",
    "\n",
    "for file in os.listdir(directory):\n",
    "    if file.endswith(\".wav\"):\n",
    "        count += 1\n",
    "\n",
    "directory = audio_dir_4\n",
    "\n",
    "for file in os.listdir(directory):\n",
    "    if file.endswith(\".wav\"):\n",
    "        count += 1\n",
    "print(f\"Number of .wav files in directory: {count}\")"
   ]
  },
  {
   "cell_type": "code",
   "execution_count": 37,
   "metadata": {},
   "outputs": [],
   "source": [
    "# min_duration = float('inf')\n",
    "\n",
    "# for wav_file in (wav_files_3 + wav_files_4):\n",
    "#     samples, sample_rate = librosa.load(wav_file)\n",
    "#     duration = librosa.get_duration(y=samples, sr=sample_rate)\n",
    "#     if duration < min_duration:\n",
    "#         min_duration = duration\n",
    "\n",
    "# print('Minimum duration:', min_duration, 'seconds')"
   ]
  },
  {
   "cell_type": "code",
   "execution_count": 38,
   "metadata": {
    "scrolled": true
   },
   "outputs": [],
   "source": [
    "# n_mels = 128\n",
    "# max_sec = 5\n",
    "\n",
    "# all_mel_spec = []\n",
    "# for wav_file in wav_files_3 + wav_files_4:\n",
    "#     samples, sample_rate = librosa.load(wav_file, duration=max_sec)\n",
    "#     mel_spec = librosa.feature.melspectrogram(y=samples, sr=sample_rate, n_mels=n_mels)\n",
    "#     log_mel_spec = librosa.power_to_db(mel_spec, ref=np.max)\n",
    "#     all_mel_spec.append(log_mel_spec)\n",
    "\n",
    "# X_train_3 = np.array(all_mel_spec)\n",
    "# X_train_3 = np.expand_dims(X_train_3, axis=-1)\n",
    "\n",
    "# X_train_3.shape"
   ]
  },
  {
   "cell_type": "code",
   "execution_count": 39,
   "metadata": {},
   "outputs": [
    {
     "name": "stdout",
     "output_type": "stream",
     "text": [
      "(816, 20, 431, 1)\n"
     ]
    }
   ],
   "source": [
    "# Set the target length for all audio files\n",
    "target_length = 22050 * 10 # 5 seconds\n",
    "\n",
    "# Set the number of Mel frequency bins\n",
    "n_mels = 128\n",
    "\n",
    "# List to hold all the mel spectrograms\n",
    "all_mfccs = []\n",
    "\n",
    "# Iterate over all the audio files\n",
    "for wav_file in wav_files_3 + wav_files_4:\n",
    "    # Load the audio file\n",
    "    samples, sample_rate = librosa.load(wav_file)\n",
    "\n",
    "    # Trim the audio file to remove the dead air\n",
    "    samples, _ = librosa.effects.trim(samples)\n",
    "\n",
    "    # Pad or truncate the audio file to the target length\n",
    "    if len(samples) < target_length:\n",
    "        samples = np.pad(samples, (0, target_length - len(samples)), 'constant')\n",
    "    else:\n",
    "        samples = samples[:target_length]\n",
    "\n",
    "    # Compute the Mel spectrogram\n",
    "    mfccs = librosa.feature.mfcc(y=samples, sr=sample_rate, n_mfcc=20, n_mels=n_mels)\n",
    "\n",
    "    # Append the Mel spectrogram to the list\n",
    "    all_mfccs.append(mfccs)\n",
    "\n",
    "# Convert the list to a numpy array and add a channel dimension\n",
    "X_train_3 = np.array(all_mfccs)\n",
    "X_train_3 = np.expand_dims(X_train_3, axis=-1)\n",
    "\n",
    "# Print the shape of the numpy array\n",
    "print(X_train_3.shape)\n"
   ]
  },
  {
   "cell_type": "code",
   "execution_count": 40,
   "metadata": {},
   "outputs": [
    {
     "data": {
      "text/plain": [
       "(4461, 20, 431, 1)"
      ]
     },
     "execution_count": 40,
     "metadata": {},
     "output_type": "execute_result"
    }
   ],
   "source": [
    "X_train = np.concatenate([X_train, X_train_3], axis=0)\n",
    "X_train.shape"
   ]
  },
  {
   "cell_type": "code",
   "execution_count": 41,
   "metadata": {},
   "outputs": [
    {
     "data": {
      "text/html": [
       "<div>\n",
       "<style scoped>\n",
       "    .dataframe tbody tr th:only-of-type {\n",
       "        vertical-align: middle;\n",
       "    }\n",
       "\n",
       "    .dataframe tbody tr th {\n",
       "        vertical-align: top;\n",
       "    }\n",
       "\n",
       "    .dataframe thead th {\n",
       "        text-align: right;\n",
       "    }\n",
       "</style>\n",
       "<table border=\"1\" class=\"dataframe\">\n",
       "  <thead>\n",
       "    <tr style=\"text-align: right;\">\n",
       "      <th></th>\n",
       "      <th>type</th>\n",
       "    </tr>\n",
       "  </thead>\n",
       "  <tbody>\n",
       "    <tr>\n",
       "      <th>0</th>\n",
       "      <td>Unhealthy</td>\n",
       "    </tr>\n",
       "    <tr>\n",
       "      <th>1</th>\n",
       "      <td>Unhealthy</td>\n",
       "    </tr>\n",
       "    <tr>\n",
       "      <th>2</th>\n",
       "      <td>Unhealthy</td>\n",
       "    </tr>\n",
       "    <tr>\n",
       "      <th>3</th>\n",
       "      <td>Unhealthy</td>\n",
       "    </tr>\n",
       "    <tr>\n",
       "      <th>4</th>\n",
       "      <td>Unhealthy</td>\n",
       "    </tr>\n",
       "    <tr>\n",
       "      <th>...</th>\n",
       "      <td>...</td>\n",
       "    </tr>\n",
       "    <tr>\n",
       "      <th>811</th>\n",
       "      <td>Unhealthy</td>\n",
       "    </tr>\n",
       "    <tr>\n",
       "      <th>812</th>\n",
       "      <td>Unhealthy</td>\n",
       "    </tr>\n",
       "    <tr>\n",
       "      <th>813</th>\n",
       "      <td>Unhealthy</td>\n",
       "    </tr>\n",
       "    <tr>\n",
       "      <th>814</th>\n",
       "      <td>Unhealthy</td>\n",
       "    </tr>\n",
       "    <tr>\n",
       "      <th>815</th>\n",
       "      <td>Unhealthy</td>\n",
       "    </tr>\n",
       "  </tbody>\n",
       "</table>\n",
       "<p>816 rows × 1 columns</p>\n",
       "</div>"
      ],
      "text/plain": [
       "          type\n",
       "0    Unhealthy\n",
       "1    Unhealthy\n",
       "2    Unhealthy\n",
       "3    Unhealthy\n",
       "4    Unhealthy\n",
       "..         ...\n",
       "811  Unhealthy\n",
       "812  Unhealthy\n",
       "813  Unhealthy\n",
       "814  Unhealthy\n",
       "815  Unhealthy\n",
       "\n",
       "[816 rows x 1 columns]"
      ]
     },
     "execution_count": 41,
     "metadata": {},
     "output_type": "execute_result"
    }
   ],
   "source": [
    "y_3 = pd.DataFrame({'type': ['Unhealthy'] * count})\n",
    "y_3"
   ]
  },
  {
   "cell_type": "code",
   "execution_count": 42,
   "metadata": {},
   "outputs": [
    {
     "data": {
      "text/plain": [
       "(4461, 1)"
      ]
     },
     "execution_count": 42,
     "metadata": {},
     "output_type": "execute_result"
    }
   ],
   "source": [
    "y_train = pd.concat([y_train, y_3], ignore_index=False)\n",
    "y_train.shape"
   ]
  },
  {
   "cell_type": "code",
   "execution_count": 43,
   "metadata": {},
   "outputs": [
    {
     "data": {
      "text/plain": [
       "type     \n",
       "Healthy      2760\n",
       "Unhealthy    1701\n",
       "dtype: int64"
      ]
     },
     "execution_count": 43,
     "metadata": {},
     "output_type": "execute_result"
    }
   ],
   "source": [
    "y_train.value_counts()"
   ]
  },
  {
   "cell_type": "code",
   "execution_count": 44,
   "metadata": {
    "scrolled": false
   },
   "outputs": [
    {
     "data": {
      "image/png": "[encoded data removed]",
      "text/plain": [
       "<Figure size 640x480 with 1 Axes>"
      ]
     },
     "metadata": {},
     "output_type": "display_data"
    }
   ],
   "source": [
    "# count the values in the 'Category' column\n",
    "counts =y_train['type'].value_counts()\n",
    "sns.barplot(x= counts.index, y= counts.values)\n",
    "plt.ylabel('Count')\n",
    "plt.show()"
   ]
  },
  {
   "cell_type": "markdown",
   "metadata": {},
   "source": [
    "## Data from data.mendeley - 3"
   ]
  },
  {
   "cell_type": "code",
   "execution_count": 45,
   "metadata": {},
   "outputs": [],
   "source": [
    "audio_dir_5 = 'jwyy9np4gv-3/Audio Files'\n",
    "wav_files_5 = sorted([os.path.join(audio_dir_5, f) for f in os.listdir(audio_dir_5) if f.endswith('.wav')])"
   ]
  },
  {
   "cell_type": "code",
   "execution_count": 46,
   "metadata": {},
   "outputs": [],
   "source": [
    "# n_mels = 128\n",
    "# max_sec = 5\n",
    "\n",
    "# all_mel_spec = []\n",
    "# for wav_file in wav_files_5:\n",
    "#     samples, sample_rate = librosa.load(wav_file, duration=max_sec)\n",
    "#     mel_spec = librosa.feature.melspectrogram(y=samples, sr=sample_rate, n_mels=n_mels)\n",
    "#     log_mel_spec = librosa.power_to_db(mel_spec, ref=np.max)\n",
    "#     all_mel_spec.append(log_mel_spec)\n",
    "\n",
    "# X_train_4 = np.array(all_mel_spec)\n",
    "# X_train_4 = np.expand_dims(X_train_4, axis=-1)\n",
    "\n",
    "# X_train_4.shape"
   ]
  },
  {
   "cell_type": "code",
   "execution_count": 47,
   "metadata": {},
   "outputs": [
    {
     "name": "stdout",
     "output_type": "stream",
     "text": [
      "(336, 20, 431, 1)\n"
     ]
    }
   ],
   "source": [
    "# Set the target length for all audio files\n",
    "target_length = 22050 * 10 # 5 seconds\n",
    "\n",
    "# Set the number of Mel frequency bins\n",
    "n_mels = 128\n",
    "\n",
    "# List to hold all the mel spectrograms\n",
    "all_mfccs = []\n",
    "\n",
    "# Iterate over all the audio files\n",
    "for wav_file in wav_files_5:\n",
    "    # Load the audio file\n",
    "    samples, sample_rate = librosa.load(wav_file)\n",
    "\n",
    "    # Trim the audio file to remove the dead air\n",
    "    samples, _ = librosa.effects.trim(samples)\n",
    "\n",
    "    # Pad or truncate the audio file to the target length\n",
    "    if len(samples) < target_length:\n",
    "        samples = np.pad(samples, (0, target_length - len(samples)), 'constant')\n",
    "    else:\n",
    "        samples = samples[:target_length]\n",
    "\n",
    "    # Compute the Mel spectrogram\n",
    "    mfccs = librosa.feature.mfcc(y=samples, sr=sample_rate, n_mfcc=20, n_mels=n_mels)\n",
    "\n",
    "    # Append the Mel spectrogram to the list\n",
    "    all_mfccs.append(mfccs)\n",
    "\n",
    "# Convert the list to a numpy array and add a channel dimension\n",
    "X_train_4 = np.array(all_mfccs)\n",
    "X_train_4 = np.expand_dims(X_train_4, axis=-1)\n",
    "\n",
    "# Print the shape of the numpy array\n",
    "print(X_train_4.shape)"
   ]
  },
  {
   "cell_type": "code",
   "execution_count": 48,
   "metadata": {},
   "outputs": [
    {
     "data": {
      "text/plain": [
       "(4797, 20, 431, 1)"
      ]
     },
     "execution_count": 48,
     "metadata": {},
     "output_type": "execute_result"
    }
   ],
   "source": [
    "# new_data = np.ones(X_train.shape)\n",
    "X_train = np.concatenate([X_train, X_train_4], axis=0)\n",
    "X_train.shape"
   ]
  },
  {
   "cell_type": "code",
   "execution_count": 49,
   "metadata": {},
   "outputs": [
    {
     "data": {
      "text/plain": [
       "type                          \n",
       "N                                 105\n",
       "Asthma                             51\n",
       "asthma                             45\n",
       "heart failure                      45\n",
       "COPD                               24\n",
       "pneumonia                          15\n",
       "Lung Fibrosis                      12\n",
       "BRON                                9\n",
       "Heart Failure                       9\n",
       "Heart Failure + COPD                6\n",
       "Plueral Effusion                    6\n",
       "Asthma and lung fibrosis            3\n",
       "Heart Failure + Lung Fibrosis       3\n",
       "copd                                3\n",
       "dtype: int64"
      ]
     },
     "execution_count": 49,
     "metadata": {},
     "output_type": "execute_result"
    }
   ],
   "source": [
    "data = []\n",
    "\n",
    "for file in wav_files_5:\n",
    "    # Split the file name to get the data after \"_\"\n",
    "    data_after_underscore = file.split('_')[1]\n",
    "    # Remove the file extension\n",
    "    data_after_underscore = data_after_underscore.split('.')[0]\n",
    "    \n",
    "    data_after_underscore = data_after_underscore.split(\",\")[0]\n",
    "        \n",
    "    data.append(data_after_underscore)\n",
    "\n",
    "# Create a DataFrame from the data\n",
    "y_4= pd.concat([pd.DataFrame(data, columns=['type'])])\n",
    "\n",
    "# Print the DataFrame\n",
    "y_4.value_counts()"
   ]
  },
  {
   "cell_type": "code",
   "execution_count": 50,
   "metadata": {
    "scrolled": true
   },
   "outputs": [
    {
     "data": {
      "text/plain": [
       "type     \n",
       "Unhealthy    231\n",
       "Healthy      105\n",
       "dtype: int64"
      ]
     },
     "execution_count": 50,
     "metadata": {},
     "output_type": "execute_result"
    }
   ],
   "source": [
    "y_4.loc[y_4['type'] == 'N', 'type'] = 'Healthy'\n",
    "y_4.loc[y_4['type'] != 'Healthy', 'type'] = 'Unhealthy'\n",
    "y_4.value_counts()"
   ]
  },
  {
   "cell_type": "code",
   "execution_count": 51,
   "metadata": {},
   "outputs": [
    {
     "data": {
      "text/plain": [
       "(4797, 1)"
      ]
     },
     "execution_count": 51,
     "metadata": {},
     "output_type": "execute_result"
    }
   ],
   "source": [
    "y_train = pd.concat([y_train, y_4], ignore_index=False)\n",
    "y_train.shape"
   ]
  },
  {
   "cell_type": "code",
   "execution_count": 52,
   "metadata": {},
   "outputs": [
    {
     "data": {
      "text/plain": [
       "Healthy      2865\n",
       "Unhealthy    1932\n",
       "Name: type, dtype: int64"
      ]
     },
     "execution_count": 52,
     "metadata": {},
     "output_type": "execute_result"
    }
   ],
   "source": [
    "y_train['type'].value_counts()"
   ]
  },
  {
   "cell_type": "code",
   "execution_count": 53,
   "metadata": {
    "scrolled": false
   },
   "outputs": [
    {
     "data": {
      "image/png": "[encoded data removed]",
      "text/plain": [
       "<Figure size 640x480 with 1 Axes>"
      ]
     },
     "metadata": {},
     "output_type": "display_data"
    }
   ],
   "source": [
    "# count the values in the 'Category' column\n",
    "counts =y_train['type'].value_counts()\n",
    "sns.barplot(x= counts.index, y= counts.values)\n",
    "plt.ylabel('Count')\n",
    "plt.show()"
   ]
  },
  {
   "cell_type": "markdown",
   "metadata": {},
   "source": [
    "### Stop"
   ]
  },
  {
   "cell_type": "code",
   "execution_count": 54,
   "metadata": {},
   "outputs": [],
   "source": [
    "# assert False, \"Stopping the execution here\""
   ]
  },
  {
   "cell_type": "code",
   "execution_count": 55,
   "metadata": {},
   "outputs": [],
   "source": [
    "y_train[\"type\"] = np.where(y_train[\"type\"] == \"Healthy\", 0, 1)"
   ]
  },
  {
   "cell_type": "code",
   "execution_count": 56,
   "metadata": {
    "scrolled": false
   },
   "outputs": [
    {
     "data": {
      "text/plain": [
       "array([[0., 1.],\n",
       "       [0., 1.],\n",
       "       [1., 0.],\n",
       "       ...,\n",
       "       [1., 0.],\n",
       "       [1., 0.],\n",
       "       [0., 1.]], dtype=float32)"
      ]
     },
     "execution_count": 56,
     "metadata": {},
     "output_type": "execute_result"
    }
   ],
   "source": [
    "y_train = to_categorical(y_train, 2)\n",
    "y_train"
   ]
  },
  {
   "cell_type": "code",
   "execution_count": 57,
   "metadata": {},
   "outputs": [],
   "source": [
    "X_train_copy = X_train.copy()\n",
    "y_train_copy = y_train.copy()"
   ]
  },
  {
   "cell_type": "code",
   "execution_count": 475,
   "metadata": {},
   "outputs": [],
   "source": [
    "#Reset train Data\n",
    "X_train = X_train_copy.copy()\n",
    "y_train = y_train_copy.copy()"
   ]
  },
  {
   "cell_type": "code",
   "execution_count": 476,
   "metadata": {},
   "outputs": [],
   "source": [
    "def apply_spec_augment(spectrogram, freq_mask_length=2, time_mask_length=5):\n",
    "#     f = np.random.randint(low=0, high=spectrogram.shape[0] - freq_mask_length)\n",
    "#     spectrogram[f:f+freq_mask_length, :] = 0\n",
    "\n",
    "    t = np.random.randint(low=0, high=spectrogram.shape[1] - time_mask_length)\n",
    "    spectrogram[:, t:t+time_mask_length] = 0\n",
    "    \n",
    "    t = np.random.randint(low=0, high=spectrogram.shape[1] - time_mask_length)\n",
    "    spectrogram[:, t:t+time_mask_length] = 0\n",
    "    \n",
    "    t = np.random.randint(low=0, high=spectrogram.shape[1] - time_mask_length)\n",
    "    spectrogram[:, t:t+time_mask_length] = 0\n",
    "\n",
    "    t = np.random.randint(low=0, high=spectrogram.shape[1] - time_mask_length)\n",
    "    spectrogram[:, t:t+time_mask_length] = 0\n",
    "    \n",
    "    return spectrogram"
   ]
  },
  {
   "cell_type": "code",
   "execution_count": 477,
   "metadata": {},
   "outputs": [
    {
     "data": {
      "image/png": "[encoded data removed]",
      "text/plain": [
       "<Figure size 2000x400 with 2 Axes>"
      ]
     },
     "metadata": {},
     "output_type": "display_data"
    }
   ],
   "source": [
    "spec_orig = X_train[10, :, :, 0].copy()\n",
    "\n",
    "\n",
    "fig, axs = plt.subplots(1, 2, figsize=(20, 4))\n",
    "\n",
    "axs[0].imshow(spec_orig, aspect='auto', origin='lower')\n",
    "axs[0].set_title('Original Mel Spectrogram')\n",
    "\n",
    "spec_aug = apply_spec_augment(spec_orig.copy())\n",
    "axs[1].imshow(spec_aug, aspect='auto', origin='lower')\n",
    "axs[1].set_title('Augmented Mel Spectrogram')\n",
    "\n",
    "plt.show()"
   ]
  },
  {
   "cell_type": "code",
   "execution_count": 478,
   "metadata": {},
   "outputs": [],
   "source": [
    "indices = np.random.permutation(len(X_train))\n",
    "\n",
    "# Shuffle arrays using random indices\n",
    "X_train = X_train[indices]\n",
    "y_train = y_train[indices]"
   ]
  },
  {
   "cell_type": "code",
   "execution_count": 479,
   "metadata": {
    "scrolled": true
   },
   "outputs": [
    {
     "data": {
      "text/plain": [
       "((3146, 20, 431, 1),\n",
       " (3146, 2),\n",
       " (787, 20, 431, 1),\n",
       " (787, 2),\n",
       " (864, 20, 431, 1),\n",
       " (864, 2))"
      ]
     },
     "execution_count": 479,
     "metadata": {},
     "output_type": "execute_result"
    }
   ],
   "source": [
    "X_train, X_test, y_train, y_test = train_test_split(X_train, y_train, test_size=0.18, stratify=y_train)\n",
    "X_train, X_val, y_train, y_val = train_test_split(X_train, y_train, test_size=0.2, stratify=y_train)\n",
    "X_train.shape , y_train.shape , X_val.shape, y_val.shape , X_test.shape, y_test.shape"
   ]
  },
  {
   "cell_type": "code",
   "execution_count": 480,
   "metadata": {},
   "outputs": [
    {
     "name": "stdout",
     "output_type": "stream",
     "text": [
      "Original X_train shape: (3146, 20, 431, 1)\n",
      "Augmented X_train shape: (3146, 20, 431, 1)\n",
      "Original y_train shape: (3146, 2)\n",
      "Augmented y_train shape: (3146, 2)\n"
     ]
    }
   ],
   "source": [
    "X_train_aug = []\n",
    "y_train_aug = []\n",
    "\n",
    "for i in range(X_train.shape[0]):\n",
    "    spectrogram = X_train[i, :, :, 0]\n",
    "    for j in range(1):\n",
    "        augmented_spectrogram = apply_spec_augment(spectrogram)\n",
    "        X_train_aug.append(augmented_spectrogram[:, :, np.newaxis])\n",
    "        y_train_aug.append(y_train[i])\n",
    "\n",
    "X_train_aug = np.array(X_train_aug)\n",
    "y_train_aug = np.array(y_train_aug)\n",
    "\n",
    "print(\"Original X_train shape:\", X_train.shape)\n",
    "print(\"Augmented X_train shape:\", X_train_aug.shape)\n",
    "print(\"Original y_train shape:\", y_train.shape)\n",
    "print(\"Augmented y_train shape:\", y_train_aug.shape)"
   ]
  },
  {
   "cell_type": "code",
   "execution_count": 481,
   "metadata": {},
   "outputs": [
    {
     "name": "stdout",
     "output_type": "stream",
     "text": [
      "Final X_train shape: (6292, 20, 431, 1)\n",
      "Final y_train shape: (6292, 2)\n"
     ]
    }
   ],
   "source": [
    "# Concatenate original data with augmented data\n",
    "X_train= np.concatenate((X_train, X_train_aug), axis=0)\n",
    "y_train = np.concatenate((y_train, y_train_aug), axis=0)\n",
    "\n",
    "print(\"Final X_train shape:\", X_train.shape)\n",
    "print(\"Final y_train shape:\", y_train.shape)"
   ]
  },
  {
   "cell_type": "code",
   "execution_count": 482,
   "metadata": {},
   "outputs": [],
   "source": [
    "indices = np.random.permutation(len(X_train))\n",
    "\n",
    "# Shuffle arrays using random indices\n",
    "X_train = X_train[indices]\n",
    "y_train = y_train[indices]"
   ]
  },
  {
   "cell_type": "code",
   "execution_count": 507,
   "metadata": {},
   "outputs": [],
   "source": [
    "from keras.models import Sequential\n",
    "from keras.layers import Conv2D, MaxPooling2D, Flatten, Dense, Dropout , BatchNormalization\n",
    "from sklearn.metrics import classification_report , confusion_matrix ,ConfusionMatrixDisplay"
   ]
  },
  {
   "cell_type": "code",
   "execution_count": 518,
   "metadata": {
    "scrolled": false
   },
   "outputs": [],
   "source": [
    "#The top-performing convolutional neural network structure (Accuracy > 0.93)\n",
    "model = Sequential()\n",
    "model.add(Conv2D(32, kernel_size=3, activation='relu', input_shape=(X_train.shape[1],X_train.shape[2],1),padding='same'))\n",
    "model.add(BatchNormalization())\n",
    "model.add(Dropout(0.2))\n",
    "model.add(Conv2D(32, kernel_size=3, activation='relu',padding='same'))\n",
    "model.add(Dropout(0.2))\n",
    "model.add(Conv2D(24, kernel_size=3, activation='relu',padding='same'))\n",
    "model.add(Dropout(0.2))\n",
    "model.add(Conv2D(64, kernel_size=3, activation='relu',padding='same'))\n",
    "model.add(MaxPooling2D(pool_size=(2,2)))\n",
    "model.add(Dropout(0.2))\n",
    "model.add(Flatten())\n",
    "model.add(Dense(128, activation='relu'))\n",
    "model.add(Dropout(0.3))\n",
    "model.add(Dense(2, activation='softmax'))"
   ]
  },
  {
   "cell_type": "code",
   "execution_count": 520,
   "metadata": {},
   "outputs": [],
   "source": [
    "model.compile(optimizer='adam', loss='categorical_crossentropy', metrics=['accuracy'])"
   ]
  },
  {
   "cell_type": "code",
   "execution_count": null,
   "metadata": {
    "scrolled": false
   },
   "outputs": [
    {
     "name": "stdout",
     "output_type": "stream",
     "text": [
      "Epoch 1/20\n",
      "50/50 [==============================] - 59s 1s/step - loss: 4.0145 - accuracy: 0.5488 - val_loss: 0.6601 - val_accuracy: 0.5972\n",
      "Epoch 2/20\n",
      "50/50 [==============================] - 58s 1s/step - loss: 0.6346 - accuracy: 0.6265 - val_loss: 0.6174 - val_accuracy: 0.5972\n",
      "Epoch 3/20\n",
      "50/50 [==============================] - 60s 1s/step - loss: 0.6131 - accuracy: 0.6678 - val_loss: 0.6027 - val_accuracy: 0.7408\n",
      "Epoch 4/20\n",
      "50/50 [==============================] - 59s 1s/step - loss: 0.5762 - accuracy: 0.6580 - val_loss: 0.5573 - val_accuracy: 0.7903\n",
      "Epoch 5/20\n",
      "50/50 [==============================] - 59s 1s/step - loss: 0.5122 - accuracy: 0.6866 - val_loss: 0.4647 - val_accuracy: 0.7598\n",
      "Epoch 6/20\n",
      "50/50 [==============================] - 59s 1s/step - loss: 0.4823 - accuracy: 0.7360 - val_loss: 0.4584 - val_accuracy: 0.7497\n",
      "Epoch 7/20\n",
      "50/50 [==============================] - 59s 1s/step - loss: 0.4780 - accuracy: 0.7343 - val_loss: 0.4687 - val_accuracy: 0.7433\n",
      "Epoch 8/20\n",
      "50/50 [==============================] - 59s 1s/step - loss: 0.4491 - accuracy: 0.7378 - val_loss: 0.4990 - val_accuracy: 0.7484\n",
      "Epoch 9/20\n",
      "50/50 [==============================] - 58s 1s/step - loss: 0.4411 - accuracy: 0.7366 - val_loss: 0.5144 - val_accuracy: 0.7459\n",
      "Epoch 10/20\n",
      "46/50 [==========================>...] - ETA: 4s - loss: 0.4174 - accuracy: 0.7424"
     ]
    }
   ],
   "source": [
    "history = model.fit(X_train, y_train, epochs=20, batch_size=128, validation_data=(X_val, y_val))"
   ]
  },
  {
   "cell_type": "code",
   "execution_count": null,
   "metadata": {},
   "outputs": [],
   "source": [
    "score = model.evaluate(X_test,y_test)\n",
    "print(\"accuracy : \" + str(score[1] * 100) )"
   ]
  },
  {
   "cell_type": "code",
   "execution_count": null,
   "metadata": {
    "scrolled": false
   },
   "outputs": [],
   "source": [
    "fig, (ax1, ax2) = plt.subplots(1, 2 , figsize=(15,5))\n",
    "\n",
    "ax1.set_title('Loss')\n",
    "ax1.set_ylabel('loss')\n",
    "ax1.set_xlabel('epoch')\n",
    "ax1.plot(history.history['loss'])\n",
    "ax1.plot(history.history['val_loss'])\n",
    "ax1.legend(['train', 'val'], loc='upper right')\n",
    "\n",
    "\n",
    "ax2.set_title('Accuracy')\n",
    "ax2.set_ylabel('accuracy')\n",
    "ax2.set_xlabel('epoch')\n",
    "ax2.plot(history.history['accuracy'])\n",
    "ax2.plot(history.history['val_accuracy'])\n",
    "ax2.legend(['train', 'val'], loc='lower right')"
   ]
  },
  {
   "cell_type": "code",
   "execution_count": null,
   "metadata": {},
   "outputs": [],
   "source": [
    "y_pred = model.predict(X_test)\n",
    "y_pred_classes = np.argmax(y_pred, axis = 1)\n",
    "y_true = np.argmax(y_test, axis = 1)\n",
    "cm = confusion_matrix(y_true, y_pred_classes) \n",
    "disp = ConfusionMatrixDisplay(confusion_matrix=cm,display_labels=[\"Healthy\" , \"Unhealthy\"])\n",
    "disp.plot(cmap='Blues')\n",
    "disp.ax_.set(xlabel='Predictions', ylabel='Actuals')"
   ]
  },
  {
   "cell_type": "code",
   "execution_count": null,
   "metadata": {
    "scrolled": true
   },
   "outputs": [],
   "source": [
    "print(classification_report(y_true , y_pred_classes, target_names=[\"Healthy\" , \"Unhealthy\"]))"
   ]
  },
  {
   "cell_type": "markdown",
   "metadata": {},
   "source": [
    "#### Let's try with Data from youtube video"
   ]
  },
  {
   "cell_type": "code",
   "execution_count": null,
   "metadata": {},
   "outputs": [],
   "source": [
    "audio_dir_yt_1 = 'LungDataset/Healthy'\n",
    "audio_dir_yt_2 = 'LungDataset/Unhealthy'\n",
    "\n",
    "wav_files_yt_1 = sorted([os.path.join(audio_dir_yt_1, f) for f in os.listdir(audio_dir_yt_1) if f.endswith('.wav')])\n",
    "wav_files_yt_2 = sorted([os.path.join(audio_dir_yt_2, f) for f in os.listdir(audio_dir_yt_2) if f.endswith('.wav')])"
   ]
  },
  {
   "cell_type": "code",
   "execution_count": null,
   "metadata": {},
   "outputs": [],
   "source": [
    "# Set the target length for all audio files\n",
    "target_length = 22050 * 10 # 5 seconds\n",
    "\n",
    "# Set the number of Mel frequency bins\n",
    "n_mels = 128\n",
    "\n",
    "# List to hold all the mel spectrograms\n",
    "all_mfccs = []\n",
    "data_predict = []\n",
    "i=0\n",
    "# Iterate over all the audio files\n",
    "for wav_file in wav_files_yt_1 + wav_files_yt_2:\n",
    "    # Load the audio file\n",
    "    samples, sample_rate = librosa.load(wav_file)\n",
    "\n",
    "    # Trim the audio file to remove the dead air\n",
    "    samples, _ = librosa.effects.trim(samples)\n",
    "\n",
    "    # Pad or truncate the audio file to the target length\n",
    "    if len(samples) < target_length:\n",
    "        samples = np.pad(samples, (0, target_length - len(samples)), 'constant')\n",
    "    else:\n",
    "        samples = samples[:target_length]\n",
    "\n",
    "    # Compute the Mel spectrogram\n",
    "    mfccs = librosa.feature.mfcc(y=samples, sr=sample_rate, n_mfcc=20, n_mels=n_mels)\n",
    "\n",
    "    # Append the Mel spectrogram to the list\n",
    "    all_mfccs.append(mfccs)\n",
    "    data_predict.append([wav_file.split(\"/\")[2]])\n",
    "    if wav_file in wav_files_yt_1:\n",
    "        data_predict[i].append(\"Healthy\")\n",
    "    else : \n",
    "        data_predict[i].append(\"Unhealthy\")\n",
    "    i += 1\n",
    "\n",
    "# Convert the list to a numpy array and add a channel dimension\n",
    "X_yt = np.array(all_mfccs)\n",
    "X_yt = np.expand_dims(X_yt, axis=-1)\n",
    "\n",
    "# Print the shape of the numpy array\n",
    "print(X_yt.shape)"
   ]
  },
  {
   "cell_type": "code",
   "execution_count": null,
   "metadata": {},
   "outputs": [],
   "source": [
    "y_pred = model.predict(X_yt)\n",
    "y_pred_classes = np.argmax(y_pred, axis = 1)\n",
    "i = 0\n",
    "for pred in y_pred_classes:\n",
    "    if pred == 0:\n",
    "        data_predict[i].append(\"Healthy\")\n",
    "    else:\n",
    "        data_predict[i].append(\"Unhealthy\")\n",
    "    i += 1\n",
    "data_predict"
   ]
  },
  {
   "cell_type": "code",
   "execution_count": null,
   "metadata": {
    "scrolled": false
   },
   "outputs": [],
   "source": [
    "predict_table=pd.DataFrame(data_predict, columns=['file_name','true','predict'])\n",
    "predict_table"
   ]
  },
  {
   "cell_type": "code",
   "execution_count": null,
   "metadata": {},
   "outputs": [],
   "source": [
    "for i in range(X_yt.shape[0]):\n",
    "    spectrogram = X_yt[i, :, :, 0]\n",
    "    for j in range(1):\n",
    "        apply_spec_augment(spectrogram)"
   ]
  },
  {
   "cell_type": "code",
   "execution_count": null,
   "metadata": {},
   "outputs": [],
   "source": [
    "y_pred = model.predict(X_yt)\n",
    "y_pred"
   ]
  },
  {
   "cell_type": "code",
   "execution_count": null,
   "metadata": {},
   "outputs": [],
   "source": [
    "model_predict=[]\n",
    "y_pred = model.predict(X_yt)\n",
    "y_pred_classes = np.argmax(y_pred, axis = 1)\n",
    "y_pred_classes"
   ]
  },
  {
   "cell_type": "code",
   "execution_count": null,
   "metadata": {},
   "outputs": [],
   "source": [
    "model_predict"
   ]
  },
  {
   "cell_type": "code",
   "execution_count": null,
   "metadata": {
    "scrolled": false
   },
   "outputs": [],
   "source": [
    "mel_spec = X_yt[11, :, :, 0]\n",
    "\n",
    "plt.imshow(mel_spec, aspect='auto', origin='lower')\n",
    "plt.title('Mel spectrogram example')\n",
    "plt.colorbar(format='%+2.0f dB')\n",
    "plt.tight_layout()\n",
    "plt.show()\n",
    "\n"
   ]
  },
  {
   "cell_type": "code",
   "execution_count": null,
   "metadata": {},
   "outputs": [],
   "source": [
    "mel_spec = X_yt[1, :, :, 0]\n",
    "\n",
    "plt.imshow(mel_spec, aspect='auto', origin='lower')\n",
    "plt.title('Mel spectrogram example')\n",
    "plt.colorbar(format='%+2.0f dB')\n",
    "plt.tight_layout()\n",
    "plt.show()\n"
   ]
  },
  {
   "cell_type": "code",
   "execution_count": null,
   "metadata": {},
   "outputs": [],
   "source": [
    "model_predict = []\n",
    "for pred in y_pred_classes:\n",
    "    if pred == 0:\n",
    "        model_predict.append(\"Healthy\")\n",
    "    else:\n",
    "        model_predict.append(\"Unhealthy\")"
   ]
  },
  {
   "cell_type": "code",
   "execution_count": null,
   "metadata": {},
   "outputs": [],
   "source": [
    "model_predict"
   ]
  },
  {
   "cell_type": "code",
   "execution_count": null,
   "metadata": {},
   "outputs": [],
   "source": [
    "# n_mels = 128\n",
    "# max_sec = 5\n",
    "\n",
    "# all_mel_spec = []\n",
    "# for wav_file in wav_files:\n",
    "#     samples, sample_rate = librosa.load(wav_file)\n",
    "#     samples_concat = np.tile(samples, 2)  # repeat the audio file twice to exceed max_sec\n",
    "#     mel_spec = librosa.feature.melspectrogram(y=samples_concat, sr=sample_rate, n_mels=n_mels)\n",
    "#     log_mel_spec = librosa.power_to_db(mel_spec, ref=np.max)\n",
    "#     all_mel_spec.append(log_mel_spec)\n",
    "\n",
    "# X_train = np.array(all_mel_spec)\n",
    "# X_train = np.expand_dims(X_train, axis=-1)\n",
    "\n",
    "# X_train.shape\n"
   ]
  },
  {
   "cell_type": "code",
   "execution_count": null,
   "metadata": {},
   "outputs": [],
   "source": [
    "# import librosa\n",
    "# import numpy as np\n",
    "# import os\n",
    "\n",
    "# audio_dir = 'Respiratory_Sound_Database/audio_and_txt_files'\n",
    "# wav_files = sorted([os.path.join(audio_dir, f) for f in os.listdir(audio_dir) if f.endswith('.wav')])\n",
    "\n",
    "# n_mels = 128\n",
    "# max_sec = 5\n",
    "\n",
    "# all_mel_spec = []\n",
    "# for wav_file in wav_files:\n",
    "#     duration = librosa.get_duration(filename=wav_file)\n",
    "#     if duration < max_sec:\n",
    "#         # Load the audio and repeat it until it's longer than max_sec\n",
    "#         samples, sample_rate = librosa.load(wav_file, sr=None)\n",
    "#         while len(samples) < max_sec * sample_rate:\n",
    "#             samples = np.concatenate((samples, samples))\n",
    "#         samples = samples[:max_sec * sample_rate]\n",
    "#     else:\n",
    "#         # Load only the first max_sec seconds of the audio\n",
    "#         samples, sample_rate = librosa.load(wav_file, duration=max_sec)\n",
    "#     # Compute the mel spectrogram\n",
    "#     mel_spec = librosa.feature.melspectrogram(y=samples, sr=sample_rate, n_mels=n_mels)\n",
    "#     log_mel_spec = librosa.power_to_db(mel_spec, ref=np.max)\n",
    "#     all_mel_spec.append(log_mel_spec)\n",
    "\n",
    "# X_train = np.array(all_mel_spec)\n",
    "# X_train = np.expand_dims(X_train, axis=-1)\n",
    "\n",
    "# X_train.shape\n"
   ]
  }
 ],
 "metadata": {
  "colab": {
   "provenance": []
  },
  "kernelspec": {
   "display_name": "Python 3 (ipykernel)",
   "language": "python",
   "name": "python3"
  },
  "language_info": {
   "codemirror_mode": {
    "name": "ipython",
    "version": 3
   },
   "file_extension": ".py",
   "mimetype": "text/x-python",
   "name": "python",
   "nbconvert_exporter": "python",
   "pygments_lexer": "ipython3",
   "version": "3.10.9"
  }
 },
 "nbformat": 4,
 "nbformat_minor": 1
}
